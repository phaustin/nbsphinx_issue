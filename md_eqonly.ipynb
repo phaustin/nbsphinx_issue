{
 "cells": [
  {
   "cell_type": "markdown",
   "metadata": {},
   "source": [
    "# Equation only"
   ]
  },
  {
   "cell_type": "markdown",
   "metadata": {},
   "source": [
    "Therefore, for line $i$, representing the $i^{th}$ gridblock, the value for the $i-1$ columnn of matrix $A$ should be\n",
    "\\begin{equation}\n",
    "A\\left[i \\right]\\left[i-1 \\right] = + \\frac{D\\theta}{\\Delta x}\\Delta y \\Delta z\n",
    "\\end{equation}\n",
    "\n",
    "The value representing the contribution from the cell on the right ($i+1$ column) is\n",
    "\\begin{equation}\n",
    "A\\left[i \\right]\\left[i+1 \\right] = + \\frac{D\\theta}{\\Delta x}\\Delta y \\Delta z\n",
    "\\end{equation}\n",
    "\n",
    "And the term on the diagonal is\n",
    "\\begin{equation}\n",
    "A\\left[i \\right]\\left[i\\right] = -2 \\frac{D\\theta}{\\Delta x}\\Delta y \\Delta z\n",
    "\\end{equation}"
   ]
  }
 ],
 "metadata": {
  "jupytext": {
   "cell_metadata_filter": "all",
   "formats": "",
   "notebook_metadata_filter": "all",
   "text_representation": {
    "extension": ".py",
    "format_name": "percent",
    "format_version": "1.2",
    "jupytext_version": "1.0.0-rc3"
   }
  },
  "kernelspec": {
   "display_name": "Python 3",
   "language": "python",
   "name": "python3"
  },
  "language_info": {
   "codemirror_mode": {
    "name": "ipython",
    "version": 3
   },
   "file_extension": ".py",
   "mimetype": "text/x-python",
   "name": "python",
   "nbconvert_exporter": "python",
   "pygments_lexer": "ipython3",
   "version": "3.6.8"
  },
  "toc": {
   "base_numbering": 1,
   "nav_menu": {},
   "number_sections": true,
   "sideBar": true,
   "skip_h1_title": false,
   "title_cell": "Table of Contents",
   "title_sidebar": "Contents",
   "toc_cell": true,
   "toc_position": {},
   "toc_section_display": true,
   "toc_window_display": true
  }
 },
 "nbformat": 4,
 "nbformat_minor": 2
}

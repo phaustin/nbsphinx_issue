{
 "cells": [
  {
   "cell_type": "markdown",
   "metadata": {},
   "source": [
    "# Align only"
   ]
  },
  {
   "cell_type": "markdown",
   "metadata": {},
   "source": [
    "In 2-D the general stencils for an interior gridblock C in terms of total flux, specific flux and concentrations are:\n",
    "\n",
    "\\begin{equation}\n",
    "\\left(J_{EC}+J_{WC} + J_{NC}+J_{SC}\\right) = 0\n",
    "\\end{equation}\n",
    "\n",
    "\\begin{align}\n",
    "&\\left(j_{EC}+j_{WC}\\right) (\\Delta y) (\\Delta z) +\\left(j_{NC}+j_{SC}\\right) (\\Delta x) (\\Delta z)  = 0 \\label{eq7610}\n",
    "\\end{align}\n",
    "\n",
    "\n",
    "\\begin{align}\n",
    "&\\left(D\\theta {c_E - c_C \\over \\Delta x} +   D\\theta {c_W - c_C \\over \\Delta x}   \\right) (\\Delta y) (\\Delta z)\n",
    "+\\left(D\\theta {c_N - c_C \\over \\Delta y} +   D\\theta {c_S - c_C \\over \\Delta y}   \\right) (\\Delta x) (\\Delta z)= 0 \\label{eq7611}\n",
    "\\end{align}"
   ]
  }
 ],
 "metadata": {
  "jupytext": {
   "cell_metadata_filter": "all",
   "formats": "",
   "notebook_metadata_filter": "all",
   "text_representation": {
    "extension": ".py",
    "format_name": "percent",
    "format_version": "1.2",
    "jupytext_version": "1.0.0-rc3"
   }
  },
  "kernelspec": {
   "display_name": "Python 3",
   "language": "python",
   "name": "python3"
  },
  "language_info": {
   "codemirror_mode": {
    "name": "ipython",
    "version": 3
   },
   "file_extension": ".py",
   "mimetype": "text/x-python",
   "name": "python",
   "nbconvert_exporter": "python",
   "pygments_lexer": "ipython3",
   "version": "3.6.8"
  },
  "toc": {
   "base_numbering": 1,
   "nav_menu": {},
   "number_sections": true,
   "sideBar": true,
   "skip_h1_title": false,
   "title_cell": "Table of Contents",
   "title_sidebar": "Contents",
   "toc_cell": true,
   "toc_position": {},
   "toc_section_display": true,
   "toc_window_display": true
  }
 },
 "nbformat": 4,
 "nbformat_minor": 2
}

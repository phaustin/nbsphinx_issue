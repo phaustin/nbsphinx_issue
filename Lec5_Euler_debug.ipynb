{
 "cells": [
  {
   "cell_type": "markdown",
   "metadata": {
    "lines_to_next_cell": 0,
    "toc": "true"
   },
   "source": [
    "<h1>Table of Contents<span class=\"tocSkip\"></span></h1>\n",
    "<div class=\"toc\"><ul class=\"toc-item\"><li><span><a href=\"#Using-color-in-equations\" data-toc-modified-id=\"Using-color-in-equations-1\"><span class=\"toc-item-num\">1&nbsp;&nbsp;</span>Using color in equations</a></span></li></ul></div>"
   ]
  },
  {
   "cell_type": "markdown",
   "metadata": {},
   "source": [
    "# Using color in equations"
   ]
  },
  {
   "cell_type": "markdown",
   "metadata": {
    "lines_to_next_cell": 0
   },
   "source": [
    "The choice of the timestep matters. Look at the previous equation:\n",
    "\n",
    "\\begin{equation}\n",
    "\\frac{\\color{blue}{c_{\\text{TMF}}}(t + \\Delta t)-c_{\\text{TMF}}(t)}{\\Delta t} =  \\frac{Q_{\\text{pit}}  c_{\\text{pit}} + Q_{\\text{mill}}  \n",
    "c_{\\text{mill}} + A_{\\text{bottom}} k \\left( c_{\\text{pore}} -   {\\color{red}{c_{\\text{TMF}}}}  \\right)  \n",
    "-Q_{\\text{dis}} \\color{red}{c_{\\text{TMF}}}}{V_0}\n",
    "\\end{equation}\n",
    "\n",
    "To compute the solution $c_{\\text{TMF}}(t+ \\Delta t)$, we use the value of $c_{\\text{TMF}}$. But, at what time? Intrinsically, at every time between $t$ and $t + \\Delta t$, the value of $c_{\\text{TMF}}$ changes.\n",
    "\n",
    "So the timestep should be small!"
   ]
  },
  {
   "cell_type": "markdown",
   "metadata": {},
   "source": [
    "\\begin{equation}\n",
    "\\begin{array}{lll}\n",
    "c_\\infty & = & \\frac{Q_{\\text{pit}}  c_{\\text{pit}} + Q_{\\text{mill}}  c_{\\text{mill}} + kA c_{\\text{pore}} }{Q_{\\text{dis}}+kA} \\\\\n",
    "& = & \\frac{\\color{blue}{Q_{\\text{pit}}  c_{\\text{pit}}} + \\color{blue}{Q_{\\text{mill}}  c_{\\text{mill}}} + kA c_{\\text{pore}} }{\\color{blue}{Q_{\\text{dis}}}+kA} \\\\\n",
    "& \\approx & \\frac{kA c_{\\text{pore}} }{kA} \\\\\n",
    "& \\approx & c_{\\text{pore}} = 2000 \\text{ mg/L}\n",
    "\\end{array}\n",
    "\\end{equation}"
   ]
  },
  {
   "cell_type": "code",
   "execution_count": null,
   "metadata": {
    "lines_to_next_cell": 2
   },
   "outputs": [],
   "source": [
    "\n"
   ]
  }
 ],
 "metadata": {
  "jupytext": {
   "cell_metadata_filter": "all",
   "formats": "",
   "metadata_filter": {
    "cells": {
     "additional": "all"
    },
    "notebook": {
     "additional": "all"
    }
   },
   "notebook_metadata_filter": "all",
   "text_representation": {
    "extension": ".py",
    "format_name": "percent",
    "format_version": "1.2",
    "jupytext_version": "0.8.6"
   }
  },
  "kernelspec": {
   "display_name": "Python 3",
   "language": "python",
   "name": "python3"
  },
  "language_info": {
   "codemirror_mode": {
    "name": "ipython",
    "version": 3
   },
   "file_extension": ".py",
   "mimetype": "text/x-python",
   "name": "python",
   "nbconvert_exporter": "python",
   "pygments_lexer": "ipython3",
   "version": "3.7.1"
  },
  "nbsphinx": {
   "execute": "never"
  },
  "toc": {
   "base_numbering": 1,
   "nav_menu": {},
   "number_sections": true,
   "sideBar": true,
   "skip_h1_title": false,
   "title_cell": "Table of Contents",
   "title_sidebar": "Contents",
   "toc_cell": true,
   "toc_position": {
    "height": "calc(100% - 180px)",
    "left": "10px",
    "top": "150px",
    "width": "165px"
   },
   "toc_section_display": true,
   "toc_window_display": true
  }
 },
 "nbformat": 4,
 "nbformat_minor": 2
}
